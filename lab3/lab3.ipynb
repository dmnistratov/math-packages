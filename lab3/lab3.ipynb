{
 "cells": [
  {
   "cell_type": "markdown",
   "id": "de7a936c",
   "metadata": {},
   "source": [
    "# Лабораторная работа №3\n",
    "#### Выполнил: Нистратов Д.Г. гр.9383 \n",
    "#### Вариант 12\n",
    "## Цель работы \n",
    "Практическое применение библиотеки символьных вычислений Python (SymPy) для решения задач дискретной математики и математической логики.\n",
    "## Задачи лабораторной работы\n",
    "1. Решить свой вариант диофантова уравнения.\n",
    "2. Имея открытую часть ключа RSA найти соответствующую закрытую часть и расшифровать кодированное слово.\n",
    "3. Записать в формате ДНФ и КНФ булеву функцию, заданную своим аналитическим выражением."
   ]
  },
  {
   "cell_type": "markdown",
   "id": "cf3a8445",
   "metadata": {},
   "source": [
    "##  Выполнение работы\n",
    "\n",
    "### Диофантово уравнение\n",
    "Решить диофантово уравнение: $$ 1819x+ 1734y = −85 $$"
   ]
  },
  {
   "cell_type": "code",
   "execution_count": 6,
   "id": "fba39d55",
   "metadata": {},
   "outputs": [
    {
     "data": {
      "text/plain": [
       "{(102*t_0 - 205, 215 - 107*t_0)}"
      ]
     },
     "execution_count": 6,
     "metadata": {},
     "output_type": "execute_result"
    }
   ],
   "source": [
    "import sympy\n",
    "from sympy import symbols\n",
    "from sympy.solvers.diophantine import diophantine\n",
    "x, y = symbols(\"x, y\", integer=True)\n",
    "diophantine(1819*x + 1734*y + 85)"
   ]
  },
  {
   "cell_type": "markdown",
   "id": "6b6727e5",
   "metadata": {},
   "source": [
    "Ответ: $$ x = 102t - 205$$ $$ y = 215 - 107t$$"
   ]
  },
  {
   "cell_type": "markdown",
   "id": "47157e5f",
   "metadata": {},
   "source": [
    "### Имея открытую часть ключа RSA найти соответствующую закрытую часть и расшифровать кодированное слово.\n",
    "\n",
    "Русское слово из четырех букв закодировано при помощи алгоритма RSA открытым ключом (e = 7,m = 39). Шифрованное сообщение имеет вид (13; 19; 32; 18). Подберите закрытую часть ключа и прочитайте исходное слово. Буквам русского алфавита соответсвуют числа в диапазоне от 2 до 32 (исключены буквы “e” и “ъ”)."
   ]
  },
  {
   "cell_type": "code",
   "execution_count": 17,
   "id": "a172c41a",
   "metadata": {},
   "outputs": [
    {
     "data": {
      "text/plain": [
       "[['л', 'e', 'т', 'у']]"
      ]
     },
     "execution_count": 17,
     "metadata": {},
     "output_type": "execute_result"
    }
   ],
   "source": [
    "from sympy.crypto.crypto import rsa_public_key\n",
    "from sympy.crypto.crypto import decipher_rsa\n",
    "\n",
    "message = [13, 19, 32, 18]\n",
    "key = rsa_public_key(39, 7)\n",
    "\n",
    "abc = (\"а б в г д e ж з и й к л м н о п р с т у ф х ц ч ш щ ы ь ъ э ю я\").split()\n",
    "\n",
    "msg = []\n",
    "\n",
    "msg.append([abc[decipher_rsa(number, key) - 2] for number in message])\n",
    "\n",
    "msg"
   ]
  },
  {
   "cell_type": "markdown",
   "id": "a0fcbb2d",
   "metadata": {},
   "source": [
    "Ответ: $$ лету $$"
   ]
  },
  {
   "cell_type": "markdown",
   "id": "03eb53b5",
   "metadata": {},
   "source": [
    "### Записать в формате ДНФ и КНФ булеву функцию, заданную своим аналитическим выражением.\n",
    "\n",
    "Пусть $$ f(x, y, z) = ((x \\newcommand*\\xor{\\mathbin{\\oplus}} y)(z \\newcommand*\\xor{\\mathbin{\\oplus}} x)) ∨ ((z ∨ y)y): $$\n",
    "\n"
   ]
  },
  {
   "cell_type": "code",
   "execution_count": 21,
   "id": "424745a1",
   "metadata": {},
   "outputs": [],
   "source": [
    "from sympy.logic.boolalg import to_dnf, to_cnf\n",
    "\n",
    "x, y, z = symbols('x y z')\n",
    "expression = ((x ^ y) & (z ^ x)) | ((z | y) & y) "
   ]
  },
  {
   "cell_type": "code",
   "execution_count": 22,
   "id": "ad904469",
   "metadata": {},
   "outputs": [
    {
     "data": {
      "text/latex": [
       "$\\displaystyle y \\vee \\left(x \\wedge \\neg z\\right)$"
      ],
      "text/plain": [
       "y | (x & ~z)"
      ]
     },
     "execution_count": 22,
     "metadata": {},
     "output_type": "execute_result"
    }
   ],
   "source": [
    "to_dnf(expression, simplify=True)"
   ]
  },
  {
   "cell_type": "code",
   "execution_count": 23,
   "id": "5b4eff9f",
   "metadata": {},
   "outputs": [
    {
     "data": {
      "text/latex": [
       "$\\displaystyle \\left(x \\vee y\\right) \\wedge \\left(y \\vee \\neg z\\right)$"
      ],
      "text/plain": [
       "(x | y) & (y | ~z)"
      ]
     },
     "execution_count": 23,
     "metadata": {},
     "output_type": "execute_result"
    }
   ],
   "source": [
    "to_cnf(expression, simplify=True)"
   ]
  },
  {
   "cell_type": "markdown",
   "id": "aedafa6c",
   "metadata": {},
   "source": [
    "### Вывод\n",
    "В ходе выполнения лабораторной работы было изучено практическое применение библиотеки символьных вычислений Python (SymPy) для решения задач дискретной математики и математической логики."
   ]
  },
  {
   "cell_type": "code",
   "execution_count": null,
   "id": "41325f33",
   "metadata": {},
   "outputs": [],
   "source": []
  }
 ],
 "metadata": {
  "kernelspec": {
   "display_name": "Python 3 (ipykernel)",
   "language": "python",
   "name": "python3"
  },
  "language_info": {
   "codemirror_mode": {
    "name": "ipython",
    "version": 3
   },
   "file_extension": ".py",
   "mimetype": "text/x-python",
   "name": "python",
   "nbconvert_exporter": "python",
   "pygments_lexer": "ipython3",
   "version": "3.8.10"
  }
 },
 "nbformat": 4,
 "nbformat_minor": 5
}
