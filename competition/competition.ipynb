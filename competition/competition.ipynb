{
 "cells": [
  {
   "cell_type": "code",
   "execution_count": 1,
   "id": "ebc4a3eb",
   "metadata": {
    "scrolled": true
   },
   "outputs": [],
   "source": [
    "from pydub import AudioSegment\n",
    "import matplotlib.pyplot as plt\n",
    "import numpy as np\n",
    "import scipy.fft\n",
    "from sklearn.cluster import KMeans\n",
    "import os\n",
    "\n",
    "def read_mp3(name):\n",
    "    sound = AudioSegment.from_mp3(name)\n",
    "\n",
    "    samples = np.array(sound.get_array_of_samples())\n",
    "\n",
    "    signal = np.array((samples[0::2] + samples[1::2])/2)\n",
    "    return signal\n",
    "\n",
    "sounds = []\n",
    "\n",
    "for filename in sorted(os.listdir('./mp3/')) :\n",
    "    if filename.endswith(\".mp3\"):\n",
    "        sounds.append(read_mp3(os.path.join('./mp3/', filename)))\n",
    "\n",
    "sounds = np.array(sounds, dtype=object)\n",
    "\n",
    "framerate = 44100\n",
    "N = 256"
   ]
  },
  {
   "cell_type": "code",
   "execution_count": 2,
   "id": "b3a8b5a0",
   "metadata": {},
   "outputs": [],
   "source": [
    "def split(signal):\n",
    "    split_signal = np.array_split(np.array(signal, dtype=np.float64), N)\n",
    "    return split_signal"
   ]
  },
  {
   "cell_type": "code",
   "execution_count": 3,
   "id": "a908d61a",
   "metadata": {},
   "outputs": [],
   "source": [
    "def window(split_signal):\n",
    "    split_signal = np.array([interval * np.hamming(len(interval)) for interval in split_signal], dtype=object)\n",
    "    return split_signal"
   ]
  },
  {
   "cell_type": "code",
   "execution_count": 4,
   "id": "e8d85fa4",
   "metadata": {
    "scrolled": true
   },
   "outputs": [],
   "source": [
    "def dft(split_signal):\n",
    "    dftValues = np.array([scipy.fft.fft(interval, n=N) for interval in split_signal], dtype=object)\n",
    "    return dftValues"
   ]
  },
  {
   "cell_type": "code",
   "execution_count": 5,
   "id": "995c615d",
   "metadata": {},
   "outputs": [],
   "source": [
    "def ampSpectrum(dftValues):\n",
    "    amplitudeSpectrum = np.array([np.absolute(interval[:len(interval)//2]) for interval in dftValues], dtype=object)\n",
    "    return amplitudeSpectrum"
   ]
  },
  {
   "cell_type": "code",
   "execution_count": 6,
   "id": "13dacb22",
   "metadata": {},
   "outputs": [],
   "source": [
    "def averageSpec(amplitudeSpectrum):\n",
    "    averageSpectrum = []\n",
    "    for interval in amplitudeSpectrum:\n",
    "        averageSpectrum.append(np.average(interval))\n",
    "    return averageSpectrum"
   ]
  },
  {
   "cell_type": "code",
   "execution_count": 7,
   "id": "149a4b11",
   "metadata": {},
   "outputs": [],
   "source": [
    "def kmean(averageSpectrum):\n",
    "    k = 5\n",
    "    kmeans = KMeans(n_clusters=k, random_state=0).fit(averageSpectrum)\n",
    "    return kmeans"
   ]
  },
  {
   "cell_type": "code",
   "execution_count": 8,
   "id": "ac8c46db",
   "metadata": {},
   "outputs": [],
   "source": [
    "klaster = []\n",
    "for signal in sounds:\n",
    "    split_signal = split(signal)\n",
    "    split_signal = window(split_signal)\n",
    "    dftValues = dft(split_signal)\n",
    "    amplitudeSpectrum = ampSpectrum(dftValues)\n",
    "    averageSpectrum = averageSpec(amplitudeSpectrum)\n",
    "    klaster.append(averageSpectrum)\n"
   ]
  },
  {
   "cell_type": "code",
   "execution_count": 12,
   "id": "4a07f61c",
   "metadata": {},
   "outputs": [],
   "source": [
    "from sklearn.decomposition import PCA\n",
    "\n",
    "klaster = np.array(klaster)"
   ]
  },
  {
   "cell_type": "code",
   "execution_count": 13,
   "id": "49b568d4",
   "metadata": {},
   "outputs": [
    {
     "data": {
      "image/png": "[encoded data removed]",
      "text/plain": [
       "<Figure size 432x288 with 1 Axes>"
      ]
     },
     "metadata": {
      "needs_background": "light"
     },
     "output_type": "display_data"
    }
   ],
   "source": [
    "k = 5\n",
    "colors = ['Green', 'Red', 'Blue', 'Yellow', 'Purple']\n",
    "kmeans = KMeans(n_clusters=k, random_state=0).fit(klaster)\n",
    "\n",
    "reduced_data = PCA(n_components=2).fit_transform(klaster)\n",
    "for item, label in zip(reduced_data, kmeans.labels_):\n",
    "    plt.scatter(item[0], item[1], s=300, color=colors[label])"
   ]
  }
 ],
 "metadata": {
  "kernelspec": {
   "display_name": "Python 3 (ipykernel)",
   "language": "python",
   "name": "python3"
  },
  "language_info": {
   "codemirror_mode": {
    "name": "ipython",
    "version": 3
   },
   "file_extension": ".py",
   "mimetype": "text/x-python",
   "name": "python",
   "nbconvert_exporter": "python",
   "pygments_lexer": "ipython3",
   "version": "3.8.10"
  }
 },
 "nbformat": 4,
 "nbformat_minor": 5
}
