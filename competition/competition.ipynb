{
 "cells": [
  {
   "cell_type": "markdown",
   "id": "8d4e0f3c",
   "metadata": {},
   "source": [
    "# Тестовое задание\n",
    "#### Выполнил: Нистратов Д.Г. гр.9383 \n",
    "\n",
    "## Цель работы \n",
    "Использованием библиотек Python для кластеризации музыкальных сигналов.\n",
    "## Задачи лабораторной работы\n",
    "1. Индивидуальное творческое соревнование.\n",
    "2. Самостоятельное освоение одного из важных методов обучения без учителя — обучение без учителя.\n",
    "3. Практическое применение дискретного преобразования Фурье для извлечения признаков обучения.\n",
    "4. Использованием библиотек Python для кластеризации музыкальных сигналов."
   ]
  },
  {
   "cell_type": "markdown",
   "id": "8748960c",
   "metadata": {},
   "source": [
    "##  Кластеризация\n",
    "\n",
    "### Загрузка аудио сигнала"
   ]
  },
  {
   "cell_type": "code",
   "execution_count": 1,
   "id": "ebc4a3eb",
   "metadata": {
    "scrolled": true
   },
   "outputs": [],
   "source": [
    "from pydub import AudioSegment\n",
    "import matplotlib.pyplot as plt\n",
    "import numpy as np\n",
    "import scipy.fft\n",
    "from sklearn.cluster import KMeans\n",
    "import os\n",
    "\n",
    "def read_mp3(name):\n",
    "    sound = AudioSegment.from_mp3(name)\n",
    "\n",
    "    samples = np.array(sound.get_array_of_samples())\n",
    "\n",
    "    signal = np.array((samples[0::2] + samples[1::2])/2)\n",
    "    return signal\n",
    "\n",
    "sounds = []\n",
    "names = []\n",
    "\n",
    "for filename in sorted(os.listdir('./mp3/')) :\n",
    "    if filename.endswith(\".mp3\"):\n",
    "        sounds.append(read_mp3(os.path.join('./mp3/', filename)))\n",
    "        names.append(filename)\n",
    "\n",
    "sounds = np.array(sounds, dtype=object)\n",
    "\n",
    "framerate = 44100\n",
    "N = 256"
   ]
  },
  {
   "cell_type": "markdown",
   "id": "19c9571c",
   "metadata": {},
   "source": [
    "### Обработка сигнала\n",
    "\n",
    "Функция split - разбивает сигнал на временные интервалы (кадры) одинаковой длины N отсчетов sm(i), где m— номер кадра.\n",
    "\n",
    "Функция window - для каждого подходящего кадра проводится предварительное оконное преобразование, чтобы уменьшить искажения при последующем вычислении ДПФ (модель сигнала):\n",
    "ˆm(i) = sm(i)w(i).\n",
    "В качестве оконной функции w(i) используется функции Хемминга.\n",
    "\n",
    "Функция dft и ampSpectrum - для каждого подходящего кадра ˆm вычисляется амплитудный спектр Sm(k).\n",
    "\n",
    "Функция averageSpec - формирует вектор среднего спектра по всем подходящим кадрам."
   ]
  },
  {
   "cell_type": "code",
   "execution_count": 2,
   "id": "b3a8b5a0",
   "metadata": {},
   "outputs": [],
   "source": [
    "def split(signal):\n",
    "    split_signal = np.array_split(np.array(signal, dtype=np.float64), N)\n",
    "    return split_signal"
   ]
  },
  {
   "cell_type": "code",
   "execution_count": 3,
   "id": "a908d61a",
   "metadata": {},
   "outputs": [],
   "source": [
    "def window(split_signal, maximum):\n",
    "    split_signal = np.array([interval * np.hamming(len(interval)) for interval in split_signal], dtype=object)\n",
    "    return split_signal"
   ]
  },
  {
   "cell_type": "code",
   "execution_count": 4,
   "id": "e8d85fa4",
   "metadata": {
    "scrolled": true
   },
   "outputs": [],
   "source": [
    "def dft(split_signal, maximum):\n",
    "    dftValues = np.array([scipy.fft.fft(interval, n=N) for interval in split_signal], dtype=object)\n",
    "    return dftValues"
   ]
  },
  {
   "cell_type": "code",
   "execution_count": 5,
   "id": "995c615d",
   "metadata": {},
   "outputs": [],
   "source": [
    "def ampSpectrum(dftValues):\n",
    "    amplitudeSpectrum = np.array([np.absolute(interval[:len(interval)//2]) for interval in dftValues], dtype=object)\n",
    "    return amplitudeSpectrum"
   ]
  },
  {
   "cell_type": "code",
   "execution_count": 6,
   "id": "13dacb22",
   "metadata": {},
   "outputs": [],
   "source": [
    "def averageSpec(amplitudeSpectrum):\n",
    "    averageSpectrum = []\n",
    "    for interval in amplitudeSpectrum:\n",
    "        averageSpectrum.append(np.average(interval))\n",
    "    return averageSpectrum"
   ]
  },
  {
   "cell_type": "markdown",
   "id": "a2a06055",
   "metadata": {},
   "source": [
    "### Кластеризация\n",
    "\n",
    "Произведем обработку сигнала для каждого звука."
   ]
  },
  {
   "cell_type": "code",
   "execution_count": 7,
   "id": "ac8c46db",
   "metadata": {},
   "outputs": [],
   "source": [
    "klaster = []\n",
    "for signal in sounds:\n",
    "    maximum = np.max(signal)\n",
    "    split_signal = split(signal)\n",
    "    split_signal = window(split_signal, maximum)\n",
    "    dftValues = dft(split_signal, maximum)\n",
    "    amplitudeSpectrum = ampSpectrum(dftValues)\n",
    "    averageSpectrum = averageSpec(amplitudeSpectrum)\n",
    "    klaster.append(averageSpectrum)\n"
   ]
  },
  {
   "cell_type": "markdown",
   "id": "d9454f95",
   "metadata": {},
   "source": [
    "Для кластеризации воспользуемся библиотекой sklearn"
   ]
  },
  {
   "cell_type": "code",
   "execution_count": 8,
   "id": "4a07f61c",
   "metadata": {},
   "outputs": [],
   "source": [
    "from sklearn.decomposition import PCA\n",
    "\n",
    "klaster = np.array(klaster)"
   ]
  },
  {
   "cell_type": "markdown",
   "id": "50330f1c",
   "metadata": {},
   "source": [
    "Функция выполняет седующие шаги :\n",
    "1. Задаем количество кластеров, k (положим k = 5).\n",
    "2. Инициализация центроидов. Случайным образом выбираются k точек данных и объявляются центрами кластеров (центроидами). Здесь возможны различные стратегии выбора (творческий выбор).\n",
    "3. Разбиение на кластеры. Для каждого элемента набора определяется ближайший к нему центр кластера (расстояния измеряются в метрике Евклида).\n",
    "4. Вычисление новых центроидов Новые центроиды — это вектора, компоненты которыхпредставляют собой средние значения соответствующих признаков, вычисленные по всем элементам соответствующего кластера.\n",
    "5. Повторяем шаги 3 — 4"
   ]
  },
  {
   "cell_type": "code",
   "execution_count": 9,
   "id": "49b568d4",
   "metadata": {},
   "outputs": [
    {
     "data": {
      "image/png": "[encoded data removed]",
      "text/plain": [
       "<Figure size 432x288 with 1 Axes>"
      ]
     },
     "metadata": {
      "needs_background": "light"
     },
     "output_type": "display_data"
    }
   ],
   "source": [
    "k = 5\n",
    "colors = ['Green', 'Red', 'Blue', 'Yellow', 'Purple']\n",
    "kmeans = KMeans(n_clusters=k, random_state=0).fit(klaster)\n",
    "\n",
    "cluster = [[], [], [], [], []]\n",
    "reduced_data = PCA(n_components=2).fit_transform(klaster)\n",
    "for item, label in zip(reduced_data, kmeans.labels_):\n",
    "    plt.scatter(item[0], item[1], s=300, color=colors[label])\n",
    "    cluster[label].append(item)"
   ]
  },
  {
   "cell_type": "markdown",
   "id": "8cd17b50",
   "metadata": {},
   "source": [
    "###  Метрика качества\n",
    "\n",
    "Для определения метрики качества высчитаем цетроиды"
   ]
  },
  {
   "cell_type": "code",
   "execution_count": 10,
   "id": "35b9ba0c",
   "metadata": {},
   "outputs": [
    {
     "data": {
      "image/png": "[encoded data removed]",
      "text/plain": [
       "<Figure size 432x288 with 1 Axes>"
      ]
     },
     "metadata": {
      "needs_background": "light"
     },
     "output_type": "display_data"
    }
   ],
   "source": [
    "from sklearn.neighbors import NearestCentroid\n",
    "clf = NearestCentroid()\n",
    "clf.fit(reduced_data, kmeans.labels_)\n",
    "\n",
    "pca = PCA(n_components=2).fit_transform(clf.centroids_)\n",
    "for item in clf.centroids_:\n",
    "    plt.scatter(item[0], item[1], s=300)"
   ]
  },
  {
   "cell_type": "markdown",
   "id": "65e8f99c",
   "metadata": {},
   "source": [
    "Метрика Компактность кластеров (Cluster Cohesion, CC): чем ближе друг к другу находятся объекты\n",
    "внутри кластеров, тем лучше разделение.\n",
    "$CC = \\frac{1}{k} \\sum_{j = 1}^{k}\\sum_{k = 1}^{C}\\left | x_{ij} - \\bar{x}_{j} \\right |^{2}$\n",
    "\n",
    "где\n",
    "k — число кластеров,\n",
    "|Cj |— число элементов в j-ом кластере,\n",
    "xij — i-й элемент j-го кластера,\n",
    "¯j — центроид j-го кластера."
   ]
  },
  {
   "cell_type": "code",
   "execution_count": 11,
   "id": "d3cdc6b5",
   "metadata": {},
   "outputs": [
    {
     "name": "stdout",
     "output_type": "stream",
     "text": [
      "[1.15751703e+08 9.31383921e+07]\n"
     ]
    }
   ],
   "source": [
    "ss = []\n",
    "zz = np.zeros(2)\n",
    "for j in range(0, k):\n",
    "    for i in range(0, len(cluster[j])):\n",
    "        ss = np.power(np.absolute(np.subtract(cluster[j][i], clf.centroids_[j])), 2)\n",
    "        zz[0] += ss[0]\n",
    "        zz[1] += ss[1]\n",
    "zz = zz/k\n",
    "\n",
    "print(zz)"
   ]
  }
 ],
 "metadata": {
  "kernelspec": {
   "display_name": "Python 3 (ipykernel)",
   "language": "python",
   "name": "python3"
  },
  "language_info": {
   "codemirror_mode": {
    "name": "ipython",
    "version": 3
   },
   "file_extension": ".py",
   "mimetype": "text/x-python",
   "name": "python",
   "nbconvert_exporter": "python",
   "pygments_lexer": "ipython3",
   "version": "3.8.10"
  }
 },
 "nbformat": 4,
 "nbformat_minor": 5
}
