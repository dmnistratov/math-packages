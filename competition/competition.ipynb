{
 "cells": [
  {
   "cell_type": "markdown",
   "id": "8d4e0f3c",
   "metadata": {},
   "source": [
    "# Тестовое задание\n",
    "#### Выполнил: Нистратов Д.Г. гр.9383 \n",
    "\n",
    "## Цель работы \n",
    "Использованием библиотек Python для кластеризации музыкальных сигналов.\n",
    "## Задачи лабораторной работы\n",
    "1. Индивидуальное творческое соревнование.\n",
    "2. Самостоятельное освоение одного из важных методов обучения без учителя — обучение без учителя.\n",
    "3. Практическое применение дискретного преобразования Фурье для извлечения признаков обучения.\n",
    "4. Использованием библиотек Python для кластеризации музыкальных сигналов."
   ]
  },
  {
   "cell_type": "markdown",
   "id": "8748960c",
   "metadata": {},
   "source": [
    "##  Кластеризация\n",
    "\n",
    "### Загрузка аудио сигнала"
   ]
  },
  {
   "cell_type": "code",
   "execution_count": 1,
   "id": "ebc4a3eb",
   "metadata": {
    "scrolled": true
   },
   "outputs": [],
   "source": [
    "from pydub import AudioSegment\n",
    "import matplotlib.pyplot as plt\n",
    "import numpy as np\n",
    "import scipy.fft\n",
    "from sklearn.cluster import KMeans\n",
    "import os\n",
    "\n",
    "def read_mp3(name):\n",
    "    sound = AudioSegment.from_mp3(name)\n",
    "\n",
    "    samples = np.array(sound.get_array_of_samples())\n",
    "\n",
    "    signal = (samples[0::2] + samples[1::2])/2\n",
    "    return signal\n",
    "\n",
    "names = []\n",
    "sounds = []\n",
    "\n",
    "for filename in sorted(os.listdir('./mp3/')) :\n",
    "    if filename.endswith(\".mp3\"):\n",
    "        sounds.append(read_mp3(os.path.join('./mp3/', filename)))\n",
    "        names.append(filename)\n",
    "\n",
    "framerate = 44100"
   ]
  },
  {
   "cell_type": "markdown",
   "id": "19c9571c",
   "metadata": {},
   "source": [
    "### Обработка сигнала\n",
    "\n",
    "Функция split - разбивает сигнал на временные интервалы (кадры) одинаковой длины N отсчетов sm(i), где m— номер кадра.\n",
    "\n",
    "Функция window - для каждого подходящего кадра проводится предварительное оконное преобразование, чтобы уменьшить искажения при последующем вычислении ДПФ (модель сигнала):\n",
    "ˆm(i) = sm(i)w(i).\n",
    "В качестве оконной функции w(i) используется функции Хемминга.\n",
    "\n",
    "Функция dft и ampSpectrum - для каждого подходящего кадра ˆm вычисляется амплитудный спектр Sm(k).\n",
    "\n",
    "Функция averageSpec - формирует вектор среднего спектра по всем подходящим кадрам."
   ]
  },
  {
   "cell_type": "code",
   "execution_count": 2,
   "id": "b3a8b5a0",
   "metadata": {},
   "outputs": [],
   "source": [
    "def split(signal):\n",
    "    split_signal  = np.array_split(signal, N)\n",
    "    \n",
    "    return split_signal "
   ]
  },
  {
   "cell_type": "code",
   "execution_count": 3,
   "id": "a908d61a",
   "metadata": {},
   "outputs": [],
   "source": [
    "def window(split_signal):\n",
    "    avg = np.average(np.abs(split_signal))\n",
    "    for i in range(len(split_signal)):\n",
    "        avg_i = np.average(np.abs(split_signal [i]))\n",
    "        if(avg_i < avg/2): \n",
    "            split_signal [i] = np.zeros(len(split_signal[i]))\n",
    "        else:\n",
    "            split_signal [i] = np.hamming(len(split_signal[i]))*split_signal[i]\n",
    "    return split_signal  "
   ]
  },
  {
   "cell_type": "code",
   "execution_count": 4,
   "id": "e8d85fa4",
   "metadata": {
    "scrolled": true
   },
   "outputs": [],
   "source": [
    "def dft(signal_parts):\n",
    "    dft_parts = []\n",
    "    for part in signal_parts:\n",
    "        dft_parts.append(abs(np.fft.rfft(part, n = N)))\n",
    "    return dft_parts"
   ]
  },
  {
   "cell_type": "code",
   "execution_count": 5,
   "id": "995c615d",
   "metadata": {},
   "outputs": [],
   "source": [
    "def ampSpectrum(dft_parts):\n",
    "    spectrum = []\n",
    "    for interaval in spectrum:\n",
    "        spectrum.append(abs(interval[:len(interval//2)]))    \n",
    "    return spectrum"
   ]
  },
  {
   "cell_type": "code",
   "execution_count": 6,
   "id": "13dacb22",
   "metadata": {},
   "outputs": [],
   "source": [
    "def averageSpec(spectrum):\n",
    "    average = []\n",
    "    for spec in spectrum:\n",
    "        average.append(np.average(spec))\n",
    "    return average"
   ]
  },
  {
   "cell_type": "markdown",
   "id": "a2a06055",
   "metadata": {},
   "source": [
    "### Кластеризация\n",
    "\n",
    "Произведем обработку сигнала для каждого звука."
   ]
  },
  {
   "cell_type": "code",
   "execution_count": 7,
   "id": "bcd81dd0",
   "metadata": {},
   "outputs": [],
   "source": [
    "klaster = []\n",
    "\n",
    "N = 128\n",
    "\n",
    "for signal in sounds:\n",
    "    split_signal = split(signal)\n",
    "    split_signal = window(split_signal)\n",
    "    spectrum = dft(split_signal)\n",
    "    average = averageSpec(spectrum)\n",
    "    klaster.append(average)"
   ]
  },
  {
   "cell_type": "markdown",
   "id": "d9454f95",
   "metadata": {},
   "source": [
    "Для кластеризации воспользуемся библиотекой sklearn"
   ]
  },
  {
   "cell_type": "code",
   "execution_count": 8,
   "id": "4a07f61c",
   "metadata": {},
   "outputs": [],
   "source": [
    "from sklearn.decomposition import PCA\n",
    "\n",
    "klaster_array = np.array(klaster)"
   ]
  },
  {
   "cell_type": "markdown",
   "id": "50330f1c",
   "metadata": {},
   "source": [
    "Функция выполняет седующие шаги :\n",
    "1. Задаем количество кластеров, k (положим k = 5).\n",
    "2. Инициализация центроидов. Случайным образом выбираются k точек данных и объявляются центрами кластеров (центроидами). Здесь возможны различные стратегии выбора (творческий выбор).\n",
    "3. Разбиение на кластеры. Для каждого элемента набора определяется ближайший к нему центр кластера (расстояния измеряются в метрике Евклида).\n",
    "4. Вычисление новых центроидов Новые центроиды — это вектора, компоненты которыхпредставляют собой средние значения соответствующих признаков, вычисленные по всем элементам соответствующего кластера.\n",
    "5. Повторяем шаги 3 — 4"
   ]
  },
  {
   "cell_type": "code",
   "execution_count": 9,
   "id": "720b0287",
   "metadata": {},
   "outputs": [
    {
     "data": {
      "image/png": "[encoded data removed]",
      "text/plain": [
       "<Figure size 432x288 with 1 Axes>"
      ]
     },
     "metadata": {
      "needs_background": "light"
     },
     "output_type": "display_data"
    }
   ],
   "source": [
    "k = 5\n",
    "colors = ['Green', 'Red', 'Blue', 'Yellow', 'Purple']\n",
    "kmeans = KMeans(n_clusters=k, random_state=0).fit(klaster_array)\n",
    "\n",
    "cluster = [[], [], [], [], []]\n",
    "reduced_data = PCA(n_components=2).fit_transform(klaster)\n",
    "for item, label in zip(reduced_data, kmeans.labels_):\n",
    "    plt.scatter(item[0], item[1], s=300, color=colors[label])\n",
    "    cluster[label].append(item)"
   ]
  },
  {
   "cell_type": "markdown",
   "id": "8cd17b50",
   "metadata": {},
   "source": [
    "###  Метрика качества\n"
   ]
  },
  {
   "cell_type": "markdown",
   "id": "65e8f99c",
   "metadata": {},
   "source": [
    "Метрика Компактность кластеров (Cluster Cohesion, CC): чем ближе друг к другу находятся объекты\n",
    "внутри кластеров, тем лучше разделение.\n",
    "$CC = \\frac{1}{k} \\sum_{j = 1}^{k}\\sum_{k = 1}^{C}\\left | x_{ij} - \\bar{x}_{j} \\right |^{2}$\n",
    "\n",
    "где\n",
    "k — число кластеров,\n",
    "|Cj |— число элементов в j-ом кластере,\n",
    "xij — i-й элемент j-го кластера,\n",
    "¯j — центроид j-го кластера."
   ]
  },
  {
   "cell_type": "code",
   "execution_count": 10,
   "id": "e66e0eb0",
   "metadata": {
    "scrolled": true
   },
   "outputs": [
    {
     "data": {
      "text/plain": [
       "605641366.8845078"
      ]
     },
     "execution_count": 10,
     "metadata": {},
     "output_type": "execute_result"
    }
   ],
   "source": [
    "cc = 0\n",
    "for label in range(k):\n",
    "    current_cluster = list(filter(lambda x: x[1] == label, list(zip(klaster, kmeans.labels_))))\n",
    "    for cluster in current_cluster:\n",
    "        cc += np.linalg.norm(cluster[0] - kmeans.cluster_centers_[label])**2\n",
    "metr = cc/k\n",
    "\n",
    "metr"
   ]
  }
 ],
 "metadata": {
  "kernelspec": {
   "display_name": "Python 3 (ipykernel)",
   "language": "python",
   "name": "python3"
  },
  "language_info": {
   "codemirror_mode": {
    "name": "ipython",
    "version": 3
   },
   "file_extension": ".py",
   "mimetype": "text/x-python",
   "name": "python",
   "nbconvert_exporter": "python",
   "pygments_lexer": "ipython3",
   "version": "3.8.10"
  }
 },
 "nbformat": 4,
 "nbformat_minor": 5
}
